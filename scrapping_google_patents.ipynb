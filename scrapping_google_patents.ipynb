{
 "cells": [
  {
   "cell_type": "code",
   "execution_count": 23,
   "metadata": {},
   "outputs": [
    {
     "output_type": "stream",
     "name": "stdout",
     "text": [
      "Requirement already satisfied: google_patent_scraper in /Users/megpatakota/opt/anaconda3/lib/python3.8/site-packages (1.0.8)\n",
      "Note: you may need to restart the kernel to use updated packages.\n"
     ]
    }
   ],
   "source": [
    "pip install google_patent_scraper"
   ]
  },
  {
   "cell_type": "code",
   "execution_count": 24,
   "metadata": {},
   "outputs": [
    {
     "output_type": "execute_result",
     "data": {
      "text/plain": [
       "                   id                                              title  \\\n",
       "0      CN-111251819-A  Vehicle-mounted air conditioner intelligent ad...   \n",
       "1      CN-110809211-B  Method for actively reducing noise of earphone...   \n",
       "2      CN-111211872-A  PDCCH blind detection method for SNR mean valu...   \n",
       "3      CN-110854460-B  Battery cell discharging method, and battery f...   \n",
       "4      CN-111210144-A  Power generation risk management method and sy...   \n",
       "...               ...                                                ...   \n",
       "11642    RU-199848-U1  DEVICE FOR COLLECTING AND TRANSMISSION OF SPAT...   \n",
       "11643   RU-2730451-C1       Средство для пилинга при гиперкератозе стоп    \n",
       "11644   RU-2736956-C1  Способ аэроэлектроразведки с применением легко...   \n",
       "11645    RU-200098-U1                           STEAM EMISSION SILENCER    \n",
       "11646   RU-2736530-C1  Стратегическая авиационная трансарктическая си...   \n",
       "\n",
       "                                                assignee  \\\n",
       "0                                                 武汉理工大学   \n",
       "1                                           恒玄科技(北京)有限公司   \n",
       "2                                                 重庆邮电大学   \n",
       "3                                           长兴太湖能谷科技有限公司   \n",
       "4                          南方电网科学研究院有限责任公司, 中国南方电网有限责任公司   \n",
       "...                                                  ...   \n",
       "11642  Федеральное государственное бюджетное образова...   \n",
       "11643  Федеральное государственное бюджетное учрежден...   \n",
       "11644  Общество с ограниченной ответственностью \"Геои...   \n",
       "11645  Федеральное государственное бюджетное образова...   \n",
       "11646                            Дмитрий Сергеевич Дуров   \n",
       "\n",
       "                                         inventor/author priority date  \\\n",
       "0                                                胡杰, 宋洪干    03/01/2020   \n",
       "1                                       童伟峰, 张亮, 李倩, 徐明亮    08/01/2020   \n",
       "2                                      张治中, 王玲, 杨钦雲, 胡玲玲    09/01/2020   \n",
       "3                                                吴建斌, 陈驰    09/01/2020   \n",
       "4                                      周保荣, 黎小林, 赵文猛, 洪潮    02/01/2020   \n",
       "...                                                  ...           ...   \n",
       "11642  Илья Николаевич Бондарев, Олег Геннадьевич Гво...    01/01/2020   \n",
       "11643  Александр Ливиевич Ураков, Михаил Юрьевич Алье...    10/01/2020   \n",
       "11644                         Александр Вадимович Паршин    09/01/2020   \n",
       "11645  Роман Евгеньевич Липантьев, Эльмира Нурулловна...    10/01/2020   \n",
       "11646                            Дмитрий Сергеевич Дуров    09/01/2020   \n",
       "\n",
       "      filing/creation date publication date  grant date  \\\n",
       "0               03/01/2020       09/06/2020         NaN   \n",
       "1               08/01/2020       19/05/2020  19/05/2020   \n",
       "2               09/01/2020       29/05/2020         NaN   \n",
       "3               16/01/2020       14/04/2020  14/04/2020   \n",
       "4               02/01/2020       29/05/2020         NaN   \n",
       "...                    ...              ...         ...   \n",
       "11642           01/01/2020       22/09/2020  22/09/2020   \n",
       "11643           10/01/2020       24/08/2020  24/08/2020   \n",
       "11644           09/01/2020       23/11/2020  23/11/2020   \n",
       "11645           10/01/2020       06/10/2020  06/10/2020   \n",
       "11646           09/01/2020       17/11/2020  17/11/2020   \n",
       "\n",
       "                                             result link  \\\n",
       "0      https://patents.google.com/patent/CN111251819A/en   \n",
       "1      https://patents.google.com/patent/CN110809211B/en   \n",
       "2      https://patents.google.com/patent/CN111211872A/en   \n",
       "3      https://patents.google.com/patent/CN110854460B/en   \n",
       "4      https://patents.google.com/patent/CN111210144A/en   \n",
       "...                                                  ...   \n",
       "11642    https://patents.google.com/patent/RU199848U1/ru   \n",
       "11643   https://patents.google.com/patent/RU2730451C1/ru   \n",
       "11644   https://patents.google.com/patent/RU2736956C1/ru   \n",
       "11645    https://patents.google.com/patent/RU200098U1/ru   \n",
       "11646   https://patents.google.com/patent/RU2736530C1/ru   \n",
       "\n",
       "                              representative figure link  \n",
       "0                                                    NaN  \n",
       "1                                                    NaN  \n",
       "2                                                    NaN  \n",
       "3                                                    NaN  \n",
       "4                                                    NaN  \n",
       "...                                                  ...  \n",
       "11642  https://patentimages.storage.googleapis.com/d9...  \n",
       "11643                                                NaN  \n",
       "11644  https://patentimages.storage.googleapis.com/a8...  \n",
       "11645  https://patentimages.storage.googleapis.com/68...  \n",
       "11646  https://patentimages.storage.googleapis.com/f5...  \n",
       "\n",
       "[11647 rows x 10 columns]"
      ],
      "text/html": "<div>\n<style scoped>\n    .dataframe tbody tr th:only-of-type {\n        vertical-align: middle;\n    }\n\n    .dataframe tbody tr th {\n        vertical-align: top;\n    }\n\n    .dataframe thead th {\n        text-align: right;\n    }\n</style>\n<table border=\"1\" class=\"dataframe\">\n  <thead>\n    <tr style=\"text-align: right;\">\n      <th></th>\n      <th>id</th>\n      <th>title</th>\n      <th>assignee</th>\n      <th>inventor/author</th>\n      <th>priority date</th>\n      <th>filing/creation date</th>\n      <th>publication date</th>\n      <th>grant date</th>\n      <th>result link</th>\n      <th>representative figure link</th>\n    </tr>\n  </thead>\n  <tbody>\n    <tr>\n      <th>0</th>\n      <td>CN-111251819-A</td>\n      <td>Vehicle-mounted air conditioner intelligent ad...</td>\n      <td>武汉理工大学</td>\n      <td>胡杰, 宋洪干</td>\n      <td>03/01/2020</td>\n      <td>03/01/2020</td>\n      <td>09/06/2020</td>\n      <td>NaN</td>\n      <td>https://patents.google.com/patent/CN111251819A/en</td>\n      <td>NaN</td>\n    </tr>\n    <tr>\n      <th>1</th>\n      <td>CN-110809211-B</td>\n      <td>Method for actively reducing noise of earphone...</td>\n      <td>恒玄科技(北京)有限公司</td>\n      <td>童伟峰, 张亮, 李倩, 徐明亮</td>\n      <td>08/01/2020</td>\n      <td>08/01/2020</td>\n      <td>19/05/2020</td>\n      <td>19/05/2020</td>\n      <td>https://patents.google.com/patent/CN110809211B/en</td>\n      <td>NaN</td>\n    </tr>\n    <tr>\n      <th>2</th>\n      <td>CN-111211872-A</td>\n      <td>PDCCH blind detection method for SNR mean valu...</td>\n      <td>重庆邮电大学</td>\n      <td>张治中, 王玲, 杨钦雲, 胡玲玲</td>\n      <td>09/01/2020</td>\n      <td>09/01/2020</td>\n      <td>29/05/2020</td>\n      <td>NaN</td>\n      <td>https://patents.google.com/patent/CN111211872A/en</td>\n      <td>NaN</td>\n    </tr>\n    <tr>\n      <th>3</th>\n      <td>CN-110854460-B</td>\n      <td>Battery cell discharging method, and battery f...</td>\n      <td>长兴太湖能谷科技有限公司</td>\n      <td>吴建斌, 陈驰</td>\n      <td>09/01/2020</td>\n      <td>16/01/2020</td>\n      <td>14/04/2020</td>\n      <td>14/04/2020</td>\n      <td>https://patents.google.com/patent/CN110854460B/en</td>\n      <td>NaN</td>\n    </tr>\n    <tr>\n      <th>4</th>\n      <td>CN-111210144-A</td>\n      <td>Power generation risk management method and sy...</td>\n      <td>南方电网科学研究院有限责任公司, 中国南方电网有限责任公司</td>\n      <td>周保荣, 黎小林, 赵文猛, 洪潮</td>\n      <td>02/01/2020</td>\n      <td>02/01/2020</td>\n      <td>29/05/2020</td>\n      <td>NaN</td>\n      <td>https://patents.google.com/patent/CN111210144A/en</td>\n      <td>NaN</td>\n    </tr>\n    <tr>\n      <th>...</th>\n      <td>...</td>\n      <td>...</td>\n      <td>...</td>\n      <td>...</td>\n      <td>...</td>\n      <td>...</td>\n      <td>...</td>\n      <td>...</td>\n      <td>...</td>\n      <td>...</td>\n    </tr>\n    <tr>\n      <th>11642</th>\n      <td>RU-199848-U1</td>\n      <td>DEVICE FOR COLLECTING AND TRANSMISSION OF SPAT...</td>\n      <td>Федеральное государственное бюджетное образова...</td>\n      <td>Илья Николаевич Бондарев, Олег Геннадьевич Гво...</td>\n      <td>01/01/2020</td>\n      <td>01/01/2020</td>\n      <td>22/09/2020</td>\n      <td>22/09/2020</td>\n      <td>https://patents.google.com/patent/RU199848U1/ru</td>\n      <td>https://patentimages.storage.googleapis.com/d9...</td>\n    </tr>\n    <tr>\n      <th>11643</th>\n      <td>RU-2730451-C1</td>\n      <td>Средство для пилинга при гиперкератозе стоп</td>\n      <td>Федеральное государственное бюджетное учрежден...</td>\n      <td>Александр Ливиевич Ураков, Михаил Юрьевич Алье...</td>\n      <td>10/01/2020</td>\n      <td>10/01/2020</td>\n      <td>24/08/2020</td>\n      <td>24/08/2020</td>\n      <td>https://patents.google.com/patent/RU2730451C1/ru</td>\n      <td>NaN</td>\n    </tr>\n    <tr>\n      <th>11644</th>\n      <td>RU-2736956-C1</td>\n      <td>Способ аэроэлектроразведки с применением легко...</td>\n      <td>Общество с ограниченной ответственностью \"Геои...</td>\n      <td>Александр Вадимович Паршин</td>\n      <td>09/01/2020</td>\n      <td>09/01/2020</td>\n      <td>23/11/2020</td>\n      <td>23/11/2020</td>\n      <td>https://patents.google.com/patent/RU2736956C1/ru</td>\n      <td>https://patentimages.storage.googleapis.com/a8...</td>\n    </tr>\n    <tr>\n      <th>11645</th>\n      <td>RU-200098-U1</td>\n      <td>STEAM EMISSION SILENCER</td>\n      <td>Федеральное государственное бюджетное образова...</td>\n      <td>Роман Евгеньевич Липантьев, Эльмира Нурулловна...</td>\n      <td>10/01/2020</td>\n      <td>10/01/2020</td>\n      <td>06/10/2020</td>\n      <td>06/10/2020</td>\n      <td>https://patents.google.com/patent/RU200098U1/ru</td>\n      <td>https://patentimages.storage.googleapis.com/68...</td>\n    </tr>\n    <tr>\n      <th>11646</th>\n      <td>RU-2736530-C1</td>\n      <td>Стратегическая авиационная трансарктическая си...</td>\n      <td>Дмитрий Сергеевич Дуров</td>\n      <td>Дмитрий Сергеевич Дуров</td>\n      <td>09/01/2020</td>\n      <td>09/01/2020</td>\n      <td>17/11/2020</td>\n      <td>17/11/2020</td>\n      <td>https://patents.google.com/patent/RU2736530C1/ru</td>\n      <td>https://patentimages.storage.googleapis.com/f5...</td>\n    </tr>\n  </tbody>\n</table>\n<p>11647 rows × 10 columns</p>\n</div>"
     },
     "metadata": {},
     "execution_count": 24
    }
   ],
   "source": [
    "# load csv to pandas\n",
    "import pandas as pd\n",
    "\n",
    "df = pd.read_csv (r'patentdatacleaned.csv')\n",
    "df"
   ]
  },
  {
   "cell_type": "code",
   "execution_count": 25,
   "metadata": {},
   "outputs": [],
   "source": [
    "# Import packages \n",
    "import google_patent_scraper\n",
    "from google_patent_scraper import scraper_class\n",
    "from bs4 import BeautifulSoup\n",
    "import requests\n",
    "from pymongo import MongoClient\n",
    "\n",
    "client = MongoClient(\"mongodb://localhost:27017/?readPreference=primary&appname=MongoDB%20Compass&ssl=false\")\n",
    "database = client[\"meg_de\"]\n",
    "collection = database.patents_data\n",
    "\n",
    "\n",
    "# Initialize scraper class \n",
    "scraper=scraper_class(return_abstract=True) \n",
    "\n",
    "result_list = (list(df[\"result link\"]))\n",
    "\n",
    "abstract_list = list()\n",
    "\n",
    "for index,row in df.iterrows():\n",
    "    patent = row['id'].replace(\"-\",\"\")\n",
    "    url = row[\"result link\"]\n",
    "    soup = BeautifulSoup(requests.get(url).content,'html.parser')\n",
    "    patent_1_parsed = scraper.get_scraped_data(soup,patent,url)\n",
    "    abstract_list.append(patent_1_parsed['abstract_text'].strip())\n",
    "    #print(patent_1_parsed['abstract_text'])\n"
   ]
  },
  {
   "cell_type": "code",
   "execution_count": 18,
   "metadata": {},
   "outputs": [
    {
     "output_type": "execute_result",
     "data": {
      "text/plain": [
       "               id                                              title  \\\n",
       "0  CN-111251819-A  Vehicle-mounted air conditioner intelligent ad...   \n",
       "1  CN-110809211-B  Method for actively reducing noise of earphone...   \n",
       "2  CN-111211872-A  PDCCH blind detection method for SNR mean valu...   \n",
       "3  CN-110854460-B  Battery cell discharging method, and battery f...   \n",
       "4  CN-111210144-A  Power generation risk management method and sy...   \n",
       "\n",
       "                        assignee    inventor/author priority date  \\\n",
       "0                         武汉理工大学            胡杰, 宋洪干    03/01/2020   \n",
       "1                   恒玄科技(北京)有限公司   童伟峰, 张亮, 李倩, 徐明亮    08/01/2020   \n",
       "2                         重庆邮电大学  张治中, 王玲, 杨钦雲, 胡玲玲    09/01/2020   \n",
       "3                   长兴太湖能谷科技有限公司            吴建斌, 陈驰    09/01/2020   \n",
       "4  南方电网科学研究院有限责任公司, 中国南方电网有限责任公司  周保荣, 黎小林, 赵文猛, 洪潮    02/01/2020   \n",
       "\n",
       "  filing/creation date publication date  grant date  \\\n",
       "0           03/01/2020       09/06/2020         NaN   \n",
       "1           08/01/2020       19/05/2020  19/05/2020   \n",
       "2           09/01/2020       29/05/2020         NaN   \n",
       "3           16/01/2020       14/04/2020  14/04/2020   \n",
       "4           02/01/2020       29/05/2020         NaN   \n",
       "\n",
       "                                         result link  \\\n",
       "0  https://patents.google.com/patent/CN111251819A/en   \n",
       "1  https://patents.google.com/patent/CN110809211B/en   \n",
       "2  https://patents.google.com/patent/CN111211872A/en   \n",
       "3  https://patents.google.com/patent/CN110854460B/en   \n",
       "4  https://patents.google.com/patent/CN111210144A/en   \n",
       "\n",
       "  representative figure link  \\\n",
       "0                        NaN   \n",
       "1                        NaN   \n",
       "2                        NaN   \n",
       "3                        NaN   \n",
       "4                        NaN   \n",
       "\n",
       "                                            abstract  \n",
       "0  The invention discloses a vehicle-mounted air ...  \n",
       "1  The disclosure relates to a method for activel...  \n",
       "2  The invention relates to a PDCCH blind detecti...  \n",
       "3  A battery cell discharging method, a battery f...  \n",
       "4  The invention discloses a power generation ris...  "
      ],
      "text/html": "<div>\n<style scoped>\n    .dataframe tbody tr th:only-of-type {\n        vertical-align: middle;\n    }\n\n    .dataframe tbody tr th {\n        vertical-align: top;\n    }\n\n    .dataframe thead th {\n        text-align: right;\n    }\n</style>\n<table border=\"1\" class=\"dataframe\">\n  <thead>\n    <tr style=\"text-align: right;\">\n      <th></th>\n      <th>id</th>\n      <th>title</th>\n      <th>assignee</th>\n      <th>inventor/author</th>\n      <th>priority date</th>\n      <th>filing/creation date</th>\n      <th>publication date</th>\n      <th>grant date</th>\n      <th>result link</th>\n      <th>representative figure link</th>\n      <th>abstract</th>\n    </tr>\n  </thead>\n  <tbody>\n    <tr>\n      <th>0</th>\n      <td>CN-111251819-A</td>\n      <td>Vehicle-mounted air conditioner intelligent ad...</td>\n      <td>武汉理工大学</td>\n      <td>胡杰, 宋洪干</td>\n      <td>03/01/2020</td>\n      <td>03/01/2020</td>\n      <td>09/06/2020</td>\n      <td>NaN</td>\n      <td>https://patents.google.com/patent/CN111251819A/en</td>\n      <td>NaN</td>\n      <td>The invention discloses a vehicle-mounted air ...</td>\n    </tr>\n    <tr>\n      <th>1</th>\n      <td>CN-110809211-B</td>\n      <td>Method for actively reducing noise of earphone...</td>\n      <td>恒玄科技(北京)有限公司</td>\n      <td>童伟峰, 张亮, 李倩, 徐明亮</td>\n      <td>08/01/2020</td>\n      <td>08/01/2020</td>\n      <td>19/05/2020</td>\n      <td>19/05/2020</td>\n      <td>https://patents.google.com/patent/CN110809211B/en</td>\n      <td>NaN</td>\n      <td>The disclosure relates to a method for activel...</td>\n    </tr>\n    <tr>\n      <th>2</th>\n      <td>CN-111211872-A</td>\n      <td>PDCCH blind detection method for SNR mean valu...</td>\n      <td>重庆邮电大学</td>\n      <td>张治中, 王玲, 杨钦雲, 胡玲玲</td>\n      <td>09/01/2020</td>\n      <td>09/01/2020</td>\n      <td>29/05/2020</td>\n      <td>NaN</td>\n      <td>https://patents.google.com/patent/CN111211872A/en</td>\n      <td>NaN</td>\n      <td>The invention relates to a PDCCH blind detecti...</td>\n    </tr>\n    <tr>\n      <th>3</th>\n      <td>CN-110854460-B</td>\n      <td>Battery cell discharging method, and battery f...</td>\n      <td>长兴太湖能谷科技有限公司</td>\n      <td>吴建斌, 陈驰</td>\n      <td>09/01/2020</td>\n      <td>16/01/2020</td>\n      <td>14/04/2020</td>\n      <td>14/04/2020</td>\n      <td>https://patents.google.com/patent/CN110854460B/en</td>\n      <td>NaN</td>\n      <td>A battery cell discharging method, a battery f...</td>\n    </tr>\n    <tr>\n      <th>4</th>\n      <td>CN-111210144-A</td>\n      <td>Power generation risk management method and sy...</td>\n      <td>南方电网科学研究院有限责任公司, 中国南方电网有限责任公司</td>\n      <td>周保荣, 黎小林, 赵文猛, 洪潮</td>\n      <td>02/01/2020</td>\n      <td>02/01/2020</td>\n      <td>29/05/2020</td>\n      <td>NaN</td>\n      <td>https://patents.google.com/patent/CN111210144A/en</td>\n      <td>NaN</td>\n      <td>The invention discloses a power generation ris...</td>\n    </tr>\n  </tbody>\n</table>\n</div>"
     },
     "metadata": {},
     "execution_count": 18
    }
   ],
   "source": [
    "df2 = df.assign(abstract = abstract_list) \n",
    "df2.head()"
   ]
  },
  {
   "cell_type": "code",
   "execution_count": 19,
   "metadata": {},
   "outputs": [],
   "source": [
    "patents_list = df2.to_dict('records')"
   ]
  },
  {
   "cell_type": "code",
   "execution_count": 20,
   "metadata": {},
   "outputs": [
    {
     "output_type": "execute_result",
     "data": {
      "text/plain": [
       "<pymongo.results.InsertManyResult at 0x7f873680ee80>"
      ]
     },
     "metadata": {},
     "execution_count": 20
    }
   ],
   "source": [
    "collection.insert_many(patents_list)"
   ]
  },
  {
   "cell_type": "code",
   "execution_count": null,
   "metadata": {},
   "outputs": [],
   "source": []
  }
 ],
 "metadata": {
  "kernelspec": {
   "display_name": "Python 3",
   "language": "python",
   "name": "python3"
  },
  "language_info": {
   "codemirror_mode": {
    "name": "ipython",
    "version": 3
   },
   "file_extension": ".py",
   "mimetype": "text/x-python",
   "name": "python",
   "nbconvert_exporter": "python",
   "pygments_lexer": "ipython3",
   "version": "3.8.3-final"
  }
 },
 "nbformat": 4,
 "nbformat_minor": 2
}