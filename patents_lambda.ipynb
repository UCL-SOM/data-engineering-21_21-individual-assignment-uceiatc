{
 "cells": [
  {
   "cell_type": "code",
   "execution_count": 19,
   "metadata": {},
   "outputs": [],
   "source": [
    "import json\n",
    "import requests\n",
    "from urllib.parse import quote_plus as parser\n",
    "import datetime as dt\n",
    "import boto3\n",
    "\n",
    "def lambda_handler():\n",
    "    query_date = (dt.datetime.today()-dt.timedelta(days=1)).strftime('%Y-%m-%d')\n",
    "    # Assign URL to variable: url\n",
    "    base_url = 'https://api.patentsview.org/patents/query?q={\"_and\":[{\"_gte\":{\"patent_date\":\"2020-01-01\"}},{\"_lte\":{\"patent_date\":\"'\n",
    "    query = str(query_date)\n",
    "\n",
    "    for page in range(1,12):\n",
    "        url = base_url + parser(query) + '\"}}]}&f=[\"patent_number\",\"patent_date\",\"patent_title\",\"patent_abstract\"]' + '&o={\"page\":'+str(page)+',\"per_page\":10}' # can change limit\n",
    "        print(\"URL to send query:\", url)\n",
    "        response = requests.get(url)\n",
    "        patent_data = response.json()[\"patents\"]\n",
    "        text = json.dumps(patent_data,indent=4)\n",
    "        encoded_text = text.encode(\"utf-8\")\n",
    "        bucket_name = \"dataengineeringredditbucket\"\n",
    "        file_name = str(\"patents\"+(dt.datetime.today()).strftime(\"%Y-%m-%d\")+ \"page-\"+str(page)+\".json\")\n",
    "        lambda_path = \"/tmp/\" + file_name\n",
    "        s3_path = file_name\n",
    "        s3 = boto3.resource(\"s3\")\n",
    "        s3.Bucket(bucket_name).put_object(Key=s3_path, Body=encoded_text)\n",
    "    return {\n",
    "        'statusCode': 200,\n",
    "        'body': json.dumps('Patents Data')\n",
    "    }\n"
   ]
  },
  {
   "cell_type": "code",
   "execution_count": 20,
   "metadata": {},
   "outputs": [
    {
     "output_type": "stream",
     "name": "stdout",
     "text": [
      "URL to send query: https://api.patentsview.org/patents/query?q={\"_and\":[{\"_gte\":{\"patent_date\":\"2020-01-01\"}},{\"_lte\":{\"patent_date\":\"2021-04-29\"}}]}&f=[\"patent_number\",\"patent_date\",\"patent_title\",\"patent_abstract\"]&o={\"page\":1,\"per_page\":10}\n",
      "URL to send query: https://api.patentsview.org/patents/query?q={\"_and\":[{\"_gte\":{\"patent_date\":\"2020-01-01\"}},{\"_lte\":{\"patent_date\":\"2021-04-29\"}}]}&f=[\"patent_number\",\"patent_date\",\"patent_title\",\"patent_abstract\"]&o={\"page\":2,\"per_page\":10}\n",
      "URL to send query: https://api.patentsview.org/patents/query?q={\"_and\":[{\"_gte\":{\"patent_date\":\"2020-01-01\"}},{\"_lte\":{\"patent_date\":\"2021-04-29\"}}]}&f=[\"patent_number\",\"patent_date\",\"patent_title\",\"patent_abstract\"]&o={\"page\":3,\"per_page\":10}\n",
      "URL to send query: https://api.patentsview.org/patents/query?q={\"_and\":[{\"_gte\":{\"patent_date\":\"2020-01-01\"}},{\"_lte\":{\"patent_date\":\"2021-04-29\"}}]}&f=[\"patent_number\",\"patent_date\",\"patent_title\",\"patent_abstract\"]&o={\"page\":4,\"per_page\":10}\n",
      "URL to send query: https://api.patentsview.org/patents/query?q={\"_and\":[{\"_gte\":{\"patent_date\":\"2020-01-01\"}},{\"_lte\":{\"patent_date\":\"2021-04-29\"}}]}&f=[\"patent_number\",\"patent_date\",\"patent_title\",\"patent_abstract\"]&o={\"page\":5,\"per_page\":10}\n",
      "URL to send query: https://api.patentsview.org/patents/query?q={\"_and\":[{\"_gte\":{\"patent_date\":\"2020-01-01\"}},{\"_lte\":{\"patent_date\":\"2021-04-29\"}}]}&f=[\"patent_number\",\"patent_date\",\"patent_title\",\"patent_abstract\"]&o={\"page\":6,\"per_page\":10}\n",
      "URL to send query: https://api.patentsview.org/patents/query?q={\"_and\":[{\"_gte\":{\"patent_date\":\"2020-01-01\"}},{\"_lte\":{\"patent_date\":\"2021-04-29\"}}]}&f=[\"patent_number\",\"patent_date\",\"patent_title\",\"patent_abstract\"]&o={\"page\":7,\"per_page\":10}\n",
      "URL to send query: https://api.patentsview.org/patents/query?q={\"_and\":[{\"_gte\":{\"patent_date\":\"2020-01-01\"}},{\"_lte\":{\"patent_date\":\"2021-04-29\"}}]}&f=[\"patent_number\",\"patent_date\",\"patent_title\",\"patent_abstract\"]&o={\"page\":8,\"per_page\":10}\n",
      "URL to send query: https://api.patentsview.org/patents/query?q={\"_and\":[{\"_gte\":{\"patent_date\":\"2020-01-01\"}},{\"_lte\":{\"patent_date\":\"2021-04-29\"}}]}&f=[\"patent_number\",\"patent_date\",\"patent_title\",\"patent_abstract\"]&o={\"page\":9,\"per_page\":10}\n",
      "URL to send query: https://api.patentsview.org/patents/query?q={\"_and\":[{\"_gte\":{\"patent_date\":\"2020-01-01\"}},{\"_lte\":{\"patent_date\":\"2021-04-29\"}}]}&f=[\"patent_number\",\"patent_date\",\"patent_title\",\"patent_abstract\"]&o={\"page\":10,\"per_page\":10}\n",
      "URL to send query: https://api.patentsview.org/patents/query?q={\"_and\":[{\"_gte\":{\"patent_date\":\"2020-01-01\"}},{\"_lte\":{\"patent_date\":\"2021-04-29\"}}]}&f=[\"patent_number\",\"patent_date\",\"patent_title\",\"patent_abstract\"]&o={\"page\":11,\"per_page\":10}\n"
     ]
    },
    {
     "output_type": "execute_result",
     "data": {
      "text/plain": [
       "{'statusCode': 200, 'body': '\"Patents Data\"'}"
      ]
     },
     "metadata": {},
     "execution_count": 20
    }
   ],
   "source": [
    "lambda_handler()"
   ]
  },
  {
   "cell_type": "code",
   "execution_count": null,
   "metadata": {},
   "outputs": [],
   "source": []
  }
 ],
 "metadata": {
  "kernelspec": {
   "name": "python3",
   "display_name": "Python 3.9.4 64-bit",
   "metadata": {
    "interpreter": {
     "hash": "aee8b7b246df8f9039afb4144a1f6fd8d2ca17a180786b69acc140d282b71a49"
    }
   }
  },
  "language_info": {
   "codemirror_mode": {
    "name": "ipython",
    "version": 3
   },
   "file_extension": ".py",
   "mimetype": "text/x-python",
   "name": "python",
   "nbconvert_exporter": "python",
   "pygments_lexer": "ipython3",
   "version": "3.9.4-final"
  }
 },
 "nbformat": 4,
 "nbformat_minor": 2
}